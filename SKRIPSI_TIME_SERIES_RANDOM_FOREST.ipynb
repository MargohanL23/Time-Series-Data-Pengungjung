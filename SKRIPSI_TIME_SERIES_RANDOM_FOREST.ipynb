{
  "nbformat": 4,
  "nbformat_minor": 0,
  "metadata": {
    "colab": {
      "provenance": []
    },
    "kernelspec": {
      "name": "python3",
      "display_name": "Python 3"
    },
    "language_info": {
      "name": "python"
    }
  },
  "cells": [
    {
      "cell_type": "markdown",
      "source": [
        "# TENTANG DATASET\n",
        "\n",
        "## 📊 Dataset: Jumlah Kunjungan Wisatawan Mancanegara ke Indonesia (2018–2025)\n",
        "\n",
        "### 🗂️ Deskripsi Dataset\n",
        "Dataset ini berisi data jumlah kunjungan wisatawan mancanegara (wisman) ke Indonesia per bulan, yang diperoleh dari situs resmi **Badan Pusat Statistik (BPS)** melalui tautan:\n",
        "\n",
        "🔗 [BPS – Jumlah Kunjungan Wisatawan Mancanegara per Bulan](https://www.bps.go.id/id/statistics-table/2/MTE1MCMy/jumlah-kunjungan-wisatawan-mancanegara-per-bulan-ke-indonesia-menurut-pintu-masuk--2008---sekarang--kunjungan-.html)\n",
        "\n",
        "Dataset mencakup informasi jumlah kunjungan berdasarkan **pintu masuk** seperti bandara, pelabuhan, dan perbatasan darat. Namun, dalam proyek ini data telah diolah untuk menampilkan **total kunjungan bulanan nasional** dari tahun **2018 hingga 2025**.\n",
        "\n",
        "---\n",
        "\n",
        "### 📅 Periode Data\n",
        "- Mulai: Januari 2018\n",
        "- Selesai: April/Mei 2025 *(tergantung data terbaru dari BPS)*\n",
        "\n",
        "---\n",
        "\n",
        "### 📌 Fitur dalam Dataset Gabungan\n",
        "\n",
        "| Kolom | Tipe Data | Deskripsi |\n",
        "|-------|-----------|-----------|\n",
        "| `Tanggal` | datetime | Tanggal referensi (per bulan, format `YYYY-MM`) |\n",
        "| `Jumlah Kunjungan` | integer | Total jumlah kunjungan wisatawan mancanegara ke seluruh pintu masuk di Indonesia pada bulan tersebut |\n",
        "\n",
        "---\n",
        "\n",
        "### ⚙️ Preprocessing yang Telah Dilakukan\n",
        "- Data diambil dari berbagai file terpisah: `2018.csv`, `2019.csv`, `2023.csv`, `2024.csv`, `2025.csv`.\n",
        "- Data dibersihkan dari format tabular BPS dan dikonversi ke format time series.\n",
        "- Kolom pintu masuk dihapus setelah dilakukan agregasi jumlah nasional.\n",
        "- Semua nilai `Jumlah Kunjungan` dikonversi menjadi nilai numerik.\n",
        "- Dataset digabung, diurutkan berdasarkan tanggal, dan disimpan sebagai `jumlah_kunjungan_wisman_2018_2025.csv`.\n",
        "\n",
        "---\n",
        "\n",
        "### 🎯 Tujuan Penggunaan Dataset\n",
        "Dataset ini digunakan untuk membangun model **Time Series Forecasting** dengan tujuan:\n",
        "- Memprediksi jumlah kunjungan wisatawan mancanegara ke Indonesia dalam beberapa bulan mendatang.\n",
        "- Menentukan tren musiman, fluktuasi pasca pandemi, dan proyeksi kunjungan pada tahun 2025 ke atas.\n",
        "\n",
        "---\n",
        "\n",
        "📌 Dataset ini sangat cocok untuk algoritma time series seperti:\n",
        "- ARIMA / SARIMA\n",
        "- Prophet\n",
        "- Random Forest Regression (dengan teknik lag)\n",
        "- LSTM (jika diperlukan pada skala lebih besar)\n"
      ],
      "metadata": {
        "id": "MFtFdNrBZ5RE"
      }
    },
    {
      "cell_type": "markdown",
      "source": [
        "## **LOAD DATASET**"
      ],
      "metadata": {
        "id": "_7H_Dlp5aHov"
      }
    },
    {
      "cell_type": "code",
      "source": [
        "import pandas as pd\n",
        "import numpy as np\n",
        "import matplotlib.pyplot as plt\n",
        "import seaborn as sns\n",
        "\n",
        "from sklearn.ensemble import RandomForestRegressor\n",
        "from sklearn.metrics import mean_absolute_error, mean_squared_error, r2_score"
      ],
      "metadata": {
        "id": "q2-WnqPjcOvy"
      },
      "execution_count": 1,
      "outputs": []
    },
    {
      "cell_type": "code",
      "execution_count": 2,
      "metadata": {
        "colab": {
          "base_uri": "https://localhost:8080/"
        },
        "id": "Ai-AYd5vZffm",
        "outputId": "87f9513c-a45f-43e1-87e7-97e005f1f30d"
      },
      "outputs": [
        {
          "output_type": "stream",
          "name": "stdout",
          "text": [
            "Mounted at /content/drive\n"
          ]
        }
      ],
      "source": [
        "from google.colab import drive\n",
        "drive.mount('/content/drive')"
      ]
    },
    {
      "cell_type": "code",
      "source": [
        "import pandas as pd\n",
        "# Memuat dataset\n",
        "df = pd.read_csv('/content/drive/MyDrive/TimeSeriesSkripsi/jumlah_kunjungan_wisman_2018_2025.csv')\n",
        "\n",
        "# Menampilkan 5 baris pertama dataset\n",
        "df.head()"
      ],
      "metadata": {
        "colab": {
          "base_uri": "https://localhost:8080/",
          "height": 206
        },
        "id": "fmJTDLAEbGWv",
        "outputId": "0f8c1658-fbed-43e1-d183-40e8349b56a6"
      },
      "execution_count": 3,
      "outputs": [
        {
          "output_type": "execute_result",
          "data": {
            "text/plain": [
              "      Tanggal          Pintu Masuk  Jumlah Kunjungan\n",
              "0  2018-01-01       A. Pintu Udara          643177.0\n",
              "1  2018-01-01       Soekarno-Hatta          210494.0\n",
              "2  2018-01-01               Juanda           21532.0\n",
              "3  2018-01-01            Kualanamu           15656.0\n",
              "4  2018-01-01  Husein Sastranegara           11463.0"
            ],
            "text/html": [
              "\n",
              "  <div id=\"df-b677094a-91f5-42a4-bb3c-7eec57278f5e\" class=\"colab-df-container\">\n",
              "    <div>\n",
              "<style scoped>\n",
              "    .dataframe tbody tr th:only-of-type {\n",
              "        vertical-align: middle;\n",
              "    }\n",
              "\n",
              "    .dataframe tbody tr th {\n",
              "        vertical-align: top;\n",
              "    }\n",
              "\n",
              "    .dataframe thead th {\n",
              "        text-align: right;\n",
              "    }\n",
              "</style>\n",
              "<table border=\"1\" class=\"dataframe\">\n",
              "  <thead>\n",
              "    <tr style=\"text-align: right;\">\n",
              "      <th></th>\n",
              "      <th>Tanggal</th>\n",
              "      <th>Pintu Masuk</th>\n",
              "      <th>Jumlah Kunjungan</th>\n",
              "    </tr>\n",
              "  </thead>\n",
              "  <tbody>\n",
              "    <tr>\n",
              "      <th>0</th>\n",
              "      <td>2018-01-01</td>\n",
              "      <td>A. Pintu Udara</td>\n",
              "      <td>643177.0</td>\n",
              "    </tr>\n",
              "    <tr>\n",
              "      <th>1</th>\n",
              "      <td>2018-01-01</td>\n",
              "      <td>Soekarno-Hatta</td>\n",
              "      <td>210494.0</td>\n",
              "    </tr>\n",
              "    <tr>\n",
              "      <th>2</th>\n",
              "      <td>2018-01-01</td>\n",
              "      <td>Juanda</td>\n",
              "      <td>21532.0</td>\n",
              "    </tr>\n",
              "    <tr>\n",
              "      <th>3</th>\n",
              "      <td>2018-01-01</td>\n",
              "      <td>Kualanamu</td>\n",
              "      <td>15656.0</td>\n",
              "    </tr>\n",
              "    <tr>\n",
              "      <th>4</th>\n",
              "      <td>2018-01-01</td>\n",
              "      <td>Husein Sastranegara</td>\n",
              "      <td>11463.0</td>\n",
              "    </tr>\n",
              "  </tbody>\n",
              "</table>\n",
              "</div>\n",
              "    <div class=\"colab-df-buttons\">\n",
              "\n",
              "  <div class=\"colab-df-container\">\n",
              "    <button class=\"colab-df-convert\" onclick=\"convertToInteractive('df-b677094a-91f5-42a4-bb3c-7eec57278f5e')\"\n",
              "            title=\"Convert this dataframe to an interactive table.\"\n",
              "            style=\"display:none;\">\n",
              "\n",
              "  <svg xmlns=\"http://www.w3.org/2000/svg\" height=\"24px\" viewBox=\"0 -960 960 960\">\n",
              "    <path d=\"M120-120v-720h720v720H120Zm60-500h600v-160H180v160Zm220 220h160v-160H400v160Zm0 220h160v-160H400v160ZM180-400h160v-160H180v160Zm440 0h160v-160H620v160ZM180-180h160v-160H180v160Zm440 0h160v-160H620v160Z\"/>\n",
              "  </svg>\n",
              "    </button>\n",
              "\n",
              "  <style>\n",
              "    .colab-df-container {\n",
              "      display:flex;\n",
              "      gap: 12px;\n",
              "    }\n",
              "\n",
              "    .colab-df-convert {\n",
              "      background-color: #E8F0FE;\n",
              "      border: none;\n",
              "      border-radius: 50%;\n",
              "      cursor: pointer;\n",
              "      display: none;\n",
              "      fill: #1967D2;\n",
              "      height: 32px;\n",
              "      padding: 0 0 0 0;\n",
              "      width: 32px;\n",
              "    }\n",
              "\n",
              "    .colab-df-convert:hover {\n",
              "      background-color: #E2EBFA;\n",
              "      box-shadow: 0px 1px 2px rgba(60, 64, 67, 0.3), 0px 1px 3px 1px rgba(60, 64, 67, 0.15);\n",
              "      fill: #174EA6;\n",
              "    }\n",
              "\n",
              "    .colab-df-buttons div {\n",
              "      margin-bottom: 4px;\n",
              "    }\n",
              "\n",
              "    [theme=dark] .colab-df-convert {\n",
              "      background-color: #3B4455;\n",
              "      fill: #D2E3FC;\n",
              "    }\n",
              "\n",
              "    [theme=dark] .colab-df-convert:hover {\n",
              "      background-color: #434B5C;\n",
              "      box-shadow: 0px 1px 3px 1px rgba(0, 0, 0, 0.15);\n",
              "      filter: drop-shadow(0px 1px 2px rgba(0, 0, 0, 0.3));\n",
              "      fill: #FFFFFF;\n",
              "    }\n",
              "  </style>\n",
              "\n",
              "    <script>\n",
              "      const buttonEl =\n",
              "        document.querySelector('#df-b677094a-91f5-42a4-bb3c-7eec57278f5e button.colab-df-convert');\n",
              "      buttonEl.style.display =\n",
              "        google.colab.kernel.accessAllowed ? 'block' : 'none';\n",
              "\n",
              "      async function convertToInteractive(key) {\n",
              "        const element = document.querySelector('#df-b677094a-91f5-42a4-bb3c-7eec57278f5e');\n",
              "        const dataTable =\n",
              "          await google.colab.kernel.invokeFunction('convertToInteractive',\n",
              "                                                    [key], {});\n",
              "        if (!dataTable) return;\n",
              "\n",
              "        const docLinkHtml = 'Like what you see? Visit the ' +\n",
              "          '<a target=\"_blank\" href=https://colab.research.google.com/notebooks/data_table.ipynb>data table notebook</a>'\n",
              "          + ' to learn more about interactive tables.';\n",
              "        element.innerHTML = '';\n",
              "        dataTable['output_type'] = 'display_data';\n",
              "        await google.colab.output.renderOutput(dataTable, element);\n",
              "        const docLink = document.createElement('div');\n",
              "        docLink.innerHTML = docLinkHtml;\n",
              "        element.appendChild(docLink);\n",
              "      }\n",
              "    </script>\n",
              "  </div>\n",
              "\n",
              "\n",
              "    <div id=\"df-ba3dce7b-ea41-4353-b70c-9a4712722464\">\n",
              "      <button class=\"colab-df-quickchart\" onclick=\"quickchart('df-ba3dce7b-ea41-4353-b70c-9a4712722464')\"\n",
              "                title=\"Suggest charts\"\n",
              "                style=\"display:none;\">\n",
              "\n",
              "<svg xmlns=\"http://www.w3.org/2000/svg\" height=\"24px\"viewBox=\"0 0 24 24\"\n",
              "     width=\"24px\">\n",
              "    <g>\n",
              "        <path d=\"M19 3H5c-1.1 0-2 .9-2 2v14c0 1.1.9 2 2 2h14c1.1 0 2-.9 2-2V5c0-1.1-.9-2-2-2zM9 17H7v-7h2v7zm4 0h-2V7h2v10zm4 0h-2v-4h2v4z\"/>\n",
              "    </g>\n",
              "</svg>\n",
              "      </button>\n",
              "\n",
              "<style>\n",
              "  .colab-df-quickchart {\n",
              "      --bg-color: #E8F0FE;\n",
              "      --fill-color: #1967D2;\n",
              "      --hover-bg-color: #E2EBFA;\n",
              "      --hover-fill-color: #174EA6;\n",
              "      --disabled-fill-color: #AAA;\n",
              "      --disabled-bg-color: #DDD;\n",
              "  }\n",
              "\n",
              "  [theme=dark] .colab-df-quickchart {\n",
              "      --bg-color: #3B4455;\n",
              "      --fill-color: #D2E3FC;\n",
              "      --hover-bg-color: #434B5C;\n",
              "      --hover-fill-color: #FFFFFF;\n",
              "      --disabled-bg-color: #3B4455;\n",
              "      --disabled-fill-color: #666;\n",
              "  }\n",
              "\n",
              "  .colab-df-quickchart {\n",
              "    background-color: var(--bg-color);\n",
              "    border: none;\n",
              "    border-radius: 50%;\n",
              "    cursor: pointer;\n",
              "    display: none;\n",
              "    fill: var(--fill-color);\n",
              "    height: 32px;\n",
              "    padding: 0;\n",
              "    width: 32px;\n",
              "  }\n",
              "\n",
              "  .colab-df-quickchart:hover {\n",
              "    background-color: var(--hover-bg-color);\n",
              "    box-shadow: 0 1px 2px rgba(60, 64, 67, 0.3), 0 1px 3px 1px rgba(60, 64, 67, 0.15);\n",
              "    fill: var(--button-hover-fill-color);\n",
              "  }\n",
              "\n",
              "  .colab-df-quickchart-complete:disabled,\n",
              "  .colab-df-quickchart-complete:disabled:hover {\n",
              "    background-color: var(--disabled-bg-color);\n",
              "    fill: var(--disabled-fill-color);\n",
              "    box-shadow: none;\n",
              "  }\n",
              "\n",
              "  .colab-df-spinner {\n",
              "    border: 2px solid var(--fill-color);\n",
              "    border-color: transparent;\n",
              "    border-bottom-color: var(--fill-color);\n",
              "    animation:\n",
              "      spin 1s steps(1) infinite;\n",
              "  }\n",
              "\n",
              "  @keyframes spin {\n",
              "    0% {\n",
              "      border-color: transparent;\n",
              "      border-bottom-color: var(--fill-color);\n",
              "      border-left-color: var(--fill-color);\n",
              "    }\n",
              "    20% {\n",
              "      border-color: transparent;\n",
              "      border-left-color: var(--fill-color);\n",
              "      border-top-color: var(--fill-color);\n",
              "    }\n",
              "    30% {\n",
              "      border-color: transparent;\n",
              "      border-left-color: var(--fill-color);\n",
              "      border-top-color: var(--fill-color);\n",
              "      border-right-color: var(--fill-color);\n",
              "    }\n",
              "    40% {\n",
              "      border-color: transparent;\n",
              "      border-right-color: var(--fill-color);\n",
              "      border-top-color: var(--fill-color);\n",
              "    }\n",
              "    60% {\n",
              "      border-color: transparent;\n",
              "      border-right-color: var(--fill-color);\n",
              "    }\n",
              "    80% {\n",
              "      border-color: transparent;\n",
              "      border-right-color: var(--fill-color);\n",
              "      border-bottom-color: var(--fill-color);\n",
              "    }\n",
              "    90% {\n",
              "      border-color: transparent;\n",
              "      border-bottom-color: var(--fill-color);\n",
              "    }\n",
              "  }\n",
              "</style>\n",
              "\n",
              "      <script>\n",
              "        async function quickchart(key) {\n",
              "          const quickchartButtonEl =\n",
              "            document.querySelector('#' + key + ' button');\n",
              "          quickchartButtonEl.disabled = true;  // To prevent multiple clicks.\n",
              "          quickchartButtonEl.classList.add('colab-df-spinner');\n",
              "          try {\n",
              "            const charts = await google.colab.kernel.invokeFunction(\n",
              "                'suggestCharts', [key], {});\n",
              "          } catch (error) {\n",
              "            console.error('Error during call to suggestCharts:', error);\n",
              "          }\n",
              "          quickchartButtonEl.classList.remove('colab-df-spinner');\n",
              "          quickchartButtonEl.classList.add('colab-df-quickchart-complete');\n",
              "        }\n",
              "        (() => {\n",
              "          let quickchartButtonEl =\n",
              "            document.querySelector('#df-ba3dce7b-ea41-4353-b70c-9a4712722464 button');\n",
              "          quickchartButtonEl.style.display =\n",
              "            google.colab.kernel.accessAllowed ? 'block' : 'none';\n",
              "        })();\n",
              "      </script>\n",
              "    </div>\n",
              "\n",
              "    </div>\n",
              "  </div>\n"
            ],
            "application/vnd.google.colaboratory.intrinsic+json": {
              "type": "dataframe",
              "variable_name": "df",
              "summary": "{\n  \"name\": \"df\",\n  \"rows\": 2100,\n  \"fields\": [\n    {\n      \"column\": \"Tanggal\",\n      \"properties\": {\n        \"dtype\": \"object\",\n        \"num_unique_values\": 60,\n        \"samples\": [\n          \"2018-01-01\",\n          \"2018-06-01\",\n          \"2024-01-01\"\n        ],\n        \"semantic_type\": \"\",\n        \"description\": \"\"\n      }\n    },\n    {\n      \"column\": \"Pintu Masuk\",\n      \"properties\": {\n        \"dtype\": \"category\",\n        \"num_unique_values\": 35,\n        \"samples\": [\n          \"Atambua\",\n          \"Sultan Badaruddin II\",\n          \"Jayapura\"\n        ],\n        \"semantic_type\": \"\",\n        \"description\": \"\"\n      }\n    },\n    {\n      \"column\": \"Jumlah Kunjungan\",\n      \"properties\": {\n        \"dtype\": \"number\",\n        \"std\": 311943.80314926646,\n        \"min\": 0.0,\n        \"max\": 1547231.0,\n        \"num_unique_values\": 1526,\n        \"samples\": [\n          3870.0,\n          3402.0,\n          57612.0\n        ],\n        \"semantic_type\": \"\",\n        \"description\": \"\"\n      }\n    }\n  ]\n}"
            }
          },
          "metadata": {},
          "execution_count": 3
        }
      ]
    },
    {
      "cell_type": "markdown",
      "source": [
        "## **DATA CLEANING**"
      ],
      "metadata": {
        "id": "7ip9vmb-nqZY"
      }
    },
    {
      "cell_type": "code",
      "source": [
        "# Menghapus baris dengan \"Pintu Masuk\" == \"Lainnya\"\n",
        "df['Tanggal'] = pd.to_datetime(df['Tanggal'])\n",
        "df = df[df['Pintu Masuk'].str.lower() != 'lainnya']\n",
        "\n",
        "# Mengapus baris tahun 2025 yang kosong\n",
        "df = df[~((df['Tanggal'].dt.year == 2025) & (df['Jumlah Kunjungan'].isna()))]"
      ],
      "metadata": {
        "id": "jkmTSzFuny13"
      },
      "execution_count": 4,
      "outputs": []
    },
    {
      "cell_type": "markdown",
      "source": [
        "## AGREGASI DATA - TOTAL PER BULAN"
      ],
      "metadata": {
        "id": "M6vh_xTHoEb8"
      }
    },
    {
      "cell_type": "code",
      "source": [
        "df_bulanan = df.groupby('Tanggal').agg({'Jumlah Kunjungan': 'sum'}).reset_index()\n",
        "df_bulanan = df_bulanan.sort_values('Tanggal')"
      ],
      "metadata": {
        "id": "WiVvq81zoP4X"
      },
      "execution_count": 5,
      "outputs": []
    },
    {
      "cell_type": "markdown",
      "source": [
        "## **FEATURE ENGINEERING**"
      ],
      "metadata": {
        "id": "ZlI-glphbs33"
      }
    },
    {
      "cell_type": "code",
      "source": [
        "df_model = df_bulanan.copy()\n",
        "df_model['lag_1'] = df_model['Jumlah Kunjungan'].shift(1)\n",
        "df_model['lag_2'] = df_model['Jumlah Kunjungan'].shift(2)\n",
        "df_model['lag_3'] = df_model['Jumlah Kunjungan'].shift(3)\n",
        "df_model['rolling_mean_3'] = df_model['Jumlah Kunjungan'].rolling(window=3).mean().shift(1)\n",
        "\n",
        "df_model['month'] = df_model['Tanggal'].dt.month\n",
        "df_model['year'] = df_model['Tanggal'].dt.year\n",
        "\n",
        "# Hapus baris awal yang mengandung NaN karena lag/rolling\n",
        "df_model.dropna(inplace=True)\n",
        "df_model.set_index('Tanggal', inplace=True)\n",
        "\n",
        "# Menambahkan fitur musiman (seasonality)\n",
        "df_model['quarter'] = df_model.index.quarter\n",
        "df_model['sin_month'] = np.sin(2 * np.pi * df_model.index.month / 12)\n",
        "df_model['cos_month'] = np.cos(2 * np.pi * df_model.index.month / 12)"
      ],
      "metadata": {
        "id": "Ua2EPGJEbwFb"
      },
      "execution_count": 6,
      "outputs": []
    },
    {
      "cell_type": "code",
      "source": [
        "# Cek missing values\n",
        "print(\"Jumlah nilai kosong tiap kolom:\")\n",
        "print(df_model.isnull().sum())"
      ],
      "metadata": {
        "colab": {
          "base_uri": "https://localhost:8080/"
        },
        "id": "EPnkgyO9dxdC",
        "outputId": "77058cde-6683-4eb6-e8d9-2ca70ce13b9f"
      },
      "execution_count": 7,
      "outputs": [
        {
          "output_type": "stream",
          "name": "stdout",
          "text": [
            "Jumlah nilai kosong tiap kolom:\n",
            "Jumlah Kunjungan    0\n",
            "lag_1               0\n",
            "lag_2               0\n",
            "lag_3               0\n",
            "rolling_mean_3      0\n",
            "month               0\n",
            "year                0\n",
            "quarter             0\n",
            "sin_month           0\n",
            "cos_month           0\n",
            "dtype: int64\n"
          ]
        }
      ]
    },
    {
      "cell_type": "code",
      "source": [
        "# Statistik ringkasan fitur\n",
        "df_model.describe()"
      ],
      "metadata": {
        "colab": {
          "base_uri": "https://localhost:8080/",
          "height": 300
        },
        "id": "3qoOxmDRd0v8",
        "outputId": "093d0011-b430-4927-a8cb-6f01b66d153a"
      },
      "execution_count": 8,
      "outputs": [
        {
          "output_type": "execute_result",
          "data": {
            "text/plain": [
              "       Jumlah Kunjungan         lag_1         lag_2         lag_3  \\\n",
              "count      4.900000e+01  4.900000e+01  4.900000e+01  4.900000e+01   \n",
              "mean       4.747037e+06  4.763273e+06  4.780639e+06  4.786757e+06   \n",
              "std        7.655008e+05  7.719854e+05  7.625722e+05  7.581184e+05   \n",
              "min        2.997744e+06  2.997744e+06  2.997744e+06  2.997744e+06   \n",
              "25%        4.251164e+06  4.251164e+06  4.267832e+06  4.280980e+06   \n",
              "50%        4.791764e+06  4.806940e+06  4.806940e+06  4.806940e+06   \n",
              "75%        5.247644e+06  5.290696e+06  5.290696e+06  5.290696e+06   \n",
              "max        6.188924e+06  6.188924e+06  6.188924e+06  6.188924e+06   \n",
              "\n",
              "       rolling_mean_3      month         year    quarter     sin_month  \\\n",
              "count    4.900000e+01  49.000000    49.000000  49.000000  4.900000e+01   \n",
              "mean     4.776890e+06   6.448980  2021.510204   2.489796  1.767399e-02   \n",
              "std      6.769595e+05   3.470478     2.646715   1.120313  7.178483e-01   \n",
              "min      3.222865e+06   1.000000  2018.000000   1.000000 -1.000000e+00   \n",
              "25%      4.227957e+06   4.000000  2019.000000   2.000000 -5.000000e-01   \n",
              "50%      4.878357e+06   6.000000  2023.000000   2.000000  1.224647e-16   \n",
              "75%      5.211269e+06   9.000000  2024.000000   3.000000  8.660254e-01   \n",
              "max      5.910059e+06  12.000000  2025.000000   4.000000  1.000000e+00   \n",
              "\n",
              "          cos_month  \n",
              "count  4.900000e+01  \n",
              "mean  -1.020408e-02  \n",
              "std    7.107053e-01  \n",
              "min   -1.000000e+00  \n",
              "25%   -5.000000e-01  \n",
              "50%   -1.836970e-16  \n",
              "75%    5.000000e-01  \n",
              "max    1.000000e+00  "
            ],
            "text/html": [
              "\n",
              "  <div id=\"df-1212167d-f1e6-4219-968d-0c23113a4c1c\" class=\"colab-df-container\">\n",
              "    <div>\n",
              "<style scoped>\n",
              "    .dataframe tbody tr th:only-of-type {\n",
              "        vertical-align: middle;\n",
              "    }\n",
              "\n",
              "    .dataframe tbody tr th {\n",
              "        vertical-align: top;\n",
              "    }\n",
              "\n",
              "    .dataframe thead th {\n",
              "        text-align: right;\n",
              "    }\n",
              "</style>\n",
              "<table border=\"1\" class=\"dataframe\">\n",
              "  <thead>\n",
              "    <tr style=\"text-align: right;\">\n",
              "      <th></th>\n",
              "      <th>Jumlah Kunjungan</th>\n",
              "      <th>lag_1</th>\n",
              "      <th>lag_2</th>\n",
              "      <th>lag_3</th>\n",
              "      <th>rolling_mean_3</th>\n",
              "      <th>month</th>\n",
              "      <th>year</th>\n",
              "      <th>quarter</th>\n",
              "      <th>sin_month</th>\n",
              "      <th>cos_month</th>\n",
              "    </tr>\n",
              "  </thead>\n",
              "  <tbody>\n",
              "    <tr>\n",
              "      <th>count</th>\n",
              "      <td>4.900000e+01</td>\n",
              "      <td>4.900000e+01</td>\n",
              "      <td>4.900000e+01</td>\n",
              "      <td>4.900000e+01</td>\n",
              "      <td>4.900000e+01</td>\n",
              "      <td>49.000000</td>\n",
              "      <td>49.000000</td>\n",
              "      <td>49.000000</td>\n",
              "      <td>4.900000e+01</td>\n",
              "      <td>4.900000e+01</td>\n",
              "    </tr>\n",
              "    <tr>\n",
              "      <th>mean</th>\n",
              "      <td>4.747037e+06</td>\n",
              "      <td>4.763273e+06</td>\n",
              "      <td>4.780639e+06</td>\n",
              "      <td>4.786757e+06</td>\n",
              "      <td>4.776890e+06</td>\n",
              "      <td>6.448980</td>\n",
              "      <td>2021.510204</td>\n",
              "      <td>2.489796</td>\n",
              "      <td>1.767399e-02</td>\n",
              "      <td>-1.020408e-02</td>\n",
              "    </tr>\n",
              "    <tr>\n",
              "      <th>std</th>\n",
              "      <td>7.655008e+05</td>\n",
              "      <td>7.719854e+05</td>\n",
              "      <td>7.625722e+05</td>\n",
              "      <td>7.581184e+05</td>\n",
              "      <td>6.769595e+05</td>\n",
              "      <td>3.470478</td>\n",
              "      <td>2.646715</td>\n",
              "      <td>1.120313</td>\n",
              "      <td>7.178483e-01</td>\n",
              "      <td>7.107053e-01</td>\n",
              "    </tr>\n",
              "    <tr>\n",
              "      <th>min</th>\n",
              "      <td>2.997744e+06</td>\n",
              "      <td>2.997744e+06</td>\n",
              "      <td>2.997744e+06</td>\n",
              "      <td>2.997744e+06</td>\n",
              "      <td>3.222865e+06</td>\n",
              "      <td>1.000000</td>\n",
              "      <td>2018.000000</td>\n",
              "      <td>1.000000</td>\n",
              "      <td>-1.000000e+00</td>\n",
              "      <td>-1.000000e+00</td>\n",
              "    </tr>\n",
              "    <tr>\n",
              "      <th>25%</th>\n",
              "      <td>4.251164e+06</td>\n",
              "      <td>4.251164e+06</td>\n",
              "      <td>4.267832e+06</td>\n",
              "      <td>4.280980e+06</td>\n",
              "      <td>4.227957e+06</td>\n",
              "      <td>4.000000</td>\n",
              "      <td>2019.000000</td>\n",
              "      <td>2.000000</td>\n",
              "      <td>-5.000000e-01</td>\n",
              "      <td>-5.000000e-01</td>\n",
              "    </tr>\n",
              "    <tr>\n",
              "      <th>50%</th>\n",
              "      <td>4.791764e+06</td>\n",
              "      <td>4.806940e+06</td>\n",
              "      <td>4.806940e+06</td>\n",
              "      <td>4.806940e+06</td>\n",
              "      <td>4.878357e+06</td>\n",
              "      <td>6.000000</td>\n",
              "      <td>2023.000000</td>\n",
              "      <td>2.000000</td>\n",
              "      <td>1.224647e-16</td>\n",
              "      <td>-1.836970e-16</td>\n",
              "    </tr>\n",
              "    <tr>\n",
              "      <th>75%</th>\n",
              "      <td>5.247644e+06</td>\n",
              "      <td>5.290696e+06</td>\n",
              "      <td>5.290696e+06</td>\n",
              "      <td>5.290696e+06</td>\n",
              "      <td>5.211269e+06</td>\n",
              "      <td>9.000000</td>\n",
              "      <td>2024.000000</td>\n",
              "      <td>3.000000</td>\n",
              "      <td>8.660254e-01</td>\n",
              "      <td>5.000000e-01</td>\n",
              "    </tr>\n",
              "    <tr>\n",
              "      <th>max</th>\n",
              "      <td>6.188924e+06</td>\n",
              "      <td>6.188924e+06</td>\n",
              "      <td>6.188924e+06</td>\n",
              "      <td>6.188924e+06</td>\n",
              "      <td>5.910059e+06</td>\n",
              "      <td>12.000000</td>\n",
              "      <td>2025.000000</td>\n",
              "      <td>4.000000</td>\n",
              "      <td>1.000000e+00</td>\n",
              "      <td>1.000000e+00</td>\n",
              "    </tr>\n",
              "  </tbody>\n",
              "</table>\n",
              "</div>\n",
              "    <div class=\"colab-df-buttons\">\n",
              "\n",
              "  <div class=\"colab-df-container\">\n",
              "    <button class=\"colab-df-convert\" onclick=\"convertToInteractive('df-1212167d-f1e6-4219-968d-0c23113a4c1c')\"\n",
              "            title=\"Convert this dataframe to an interactive table.\"\n",
              "            style=\"display:none;\">\n",
              "\n",
              "  <svg xmlns=\"http://www.w3.org/2000/svg\" height=\"24px\" viewBox=\"0 -960 960 960\">\n",
              "    <path d=\"M120-120v-720h720v720H120Zm60-500h600v-160H180v160Zm220 220h160v-160H400v160Zm0 220h160v-160H400v160ZM180-400h160v-160H180v160Zm440 0h160v-160H620v160ZM180-180h160v-160H180v160Zm440 0h160v-160H620v160Z\"/>\n",
              "  </svg>\n",
              "    </button>\n",
              "\n",
              "  <style>\n",
              "    .colab-df-container {\n",
              "      display:flex;\n",
              "      gap: 12px;\n",
              "    }\n",
              "\n",
              "    .colab-df-convert {\n",
              "      background-color: #E8F0FE;\n",
              "      border: none;\n",
              "      border-radius: 50%;\n",
              "      cursor: pointer;\n",
              "      display: none;\n",
              "      fill: #1967D2;\n",
              "      height: 32px;\n",
              "      padding: 0 0 0 0;\n",
              "      width: 32px;\n",
              "    }\n",
              "\n",
              "    .colab-df-convert:hover {\n",
              "      background-color: #E2EBFA;\n",
              "      box-shadow: 0px 1px 2px rgba(60, 64, 67, 0.3), 0px 1px 3px 1px rgba(60, 64, 67, 0.15);\n",
              "      fill: #174EA6;\n",
              "    }\n",
              "\n",
              "    .colab-df-buttons div {\n",
              "      margin-bottom: 4px;\n",
              "    }\n",
              "\n",
              "    [theme=dark] .colab-df-convert {\n",
              "      background-color: #3B4455;\n",
              "      fill: #D2E3FC;\n",
              "    }\n",
              "\n",
              "    [theme=dark] .colab-df-convert:hover {\n",
              "      background-color: #434B5C;\n",
              "      box-shadow: 0px 1px 3px 1px rgba(0, 0, 0, 0.15);\n",
              "      filter: drop-shadow(0px 1px 2px rgba(0, 0, 0, 0.3));\n",
              "      fill: #FFFFFF;\n",
              "    }\n",
              "  </style>\n",
              "\n",
              "    <script>\n",
              "      const buttonEl =\n",
              "        document.querySelector('#df-1212167d-f1e6-4219-968d-0c23113a4c1c button.colab-df-convert');\n",
              "      buttonEl.style.display =\n",
              "        google.colab.kernel.accessAllowed ? 'block' : 'none';\n",
              "\n",
              "      async function convertToInteractive(key) {\n",
              "        const element = document.querySelector('#df-1212167d-f1e6-4219-968d-0c23113a4c1c');\n",
              "        const dataTable =\n",
              "          await google.colab.kernel.invokeFunction('convertToInteractive',\n",
              "                                                    [key], {});\n",
              "        if (!dataTable) return;\n",
              "\n",
              "        const docLinkHtml = 'Like what you see? Visit the ' +\n",
              "          '<a target=\"_blank\" href=https://colab.research.google.com/notebooks/data_table.ipynb>data table notebook</a>'\n",
              "          + ' to learn more about interactive tables.';\n",
              "        element.innerHTML = '';\n",
              "        dataTable['output_type'] = 'display_data';\n",
              "        await google.colab.output.renderOutput(dataTable, element);\n",
              "        const docLink = document.createElement('div');\n",
              "        docLink.innerHTML = docLinkHtml;\n",
              "        element.appendChild(docLink);\n",
              "      }\n",
              "    </script>\n",
              "  </div>\n",
              "\n",
              "\n",
              "    <div id=\"df-f21eb64e-7ca3-419c-ba08-ec442b4e165f\">\n",
              "      <button class=\"colab-df-quickchart\" onclick=\"quickchart('df-f21eb64e-7ca3-419c-ba08-ec442b4e165f')\"\n",
              "                title=\"Suggest charts\"\n",
              "                style=\"display:none;\">\n",
              "\n",
              "<svg xmlns=\"http://www.w3.org/2000/svg\" height=\"24px\"viewBox=\"0 0 24 24\"\n",
              "     width=\"24px\">\n",
              "    <g>\n",
              "        <path d=\"M19 3H5c-1.1 0-2 .9-2 2v14c0 1.1.9 2 2 2h14c1.1 0 2-.9 2-2V5c0-1.1-.9-2-2-2zM9 17H7v-7h2v7zm4 0h-2V7h2v10zm4 0h-2v-4h2v4z\"/>\n",
              "    </g>\n",
              "</svg>\n",
              "      </button>\n",
              "\n",
              "<style>\n",
              "  .colab-df-quickchart {\n",
              "      --bg-color: #E8F0FE;\n",
              "      --fill-color: #1967D2;\n",
              "      --hover-bg-color: #E2EBFA;\n",
              "      --hover-fill-color: #174EA6;\n",
              "      --disabled-fill-color: #AAA;\n",
              "      --disabled-bg-color: #DDD;\n",
              "  }\n",
              "\n",
              "  [theme=dark] .colab-df-quickchart {\n",
              "      --bg-color: #3B4455;\n",
              "      --fill-color: #D2E3FC;\n",
              "      --hover-bg-color: #434B5C;\n",
              "      --hover-fill-color: #FFFFFF;\n",
              "      --disabled-bg-color: #3B4455;\n",
              "      --disabled-fill-color: #666;\n",
              "  }\n",
              "\n",
              "  .colab-df-quickchart {\n",
              "    background-color: var(--bg-color);\n",
              "    border: none;\n",
              "    border-radius: 50%;\n",
              "    cursor: pointer;\n",
              "    display: none;\n",
              "    fill: var(--fill-color);\n",
              "    height: 32px;\n",
              "    padding: 0;\n",
              "    width: 32px;\n",
              "  }\n",
              "\n",
              "  .colab-df-quickchart:hover {\n",
              "    background-color: var(--hover-bg-color);\n",
              "    box-shadow: 0 1px 2px rgba(60, 64, 67, 0.3), 0 1px 3px 1px rgba(60, 64, 67, 0.15);\n",
              "    fill: var(--button-hover-fill-color);\n",
              "  }\n",
              "\n",
              "  .colab-df-quickchart-complete:disabled,\n",
              "  .colab-df-quickchart-complete:disabled:hover {\n",
              "    background-color: var(--disabled-bg-color);\n",
              "    fill: var(--disabled-fill-color);\n",
              "    box-shadow: none;\n",
              "  }\n",
              "\n",
              "  .colab-df-spinner {\n",
              "    border: 2px solid var(--fill-color);\n",
              "    border-color: transparent;\n",
              "    border-bottom-color: var(--fill-color);\n",
              "    animation:\n",
              "      spin 1s steps(1) infinite;\n",
              "  }\n",
              "\n",
              "  @keyframes spin {\n",
              "    0% {\n",
              "      border-color: transparent;\n",
              "      border-bottom-color: var(--fill-color);\n",
              "      border-left-color: var(--fill-color);\n",
              "    }\n",
              "    20% {\n",
              "      border-color: transparent;\n",
              "      border-left-color: var(--fill-color);\n",
              "      border-top-color: var(--fill-color);\n",
              "    }\n",
              "    30% {\n",
              "      border-color: transparent;\n",
              "      border-left-color: var(--fill-color);\n",
              "      border-top-color: var(--fill-color);\n",
              "      border-right-color: var(--fill-color);\n",
              "    }\n",
              "    40% {\n",
              "      border-color: transparent;\n",
              "      border-right-color: var(--fill-color);\n",
              "      border-top-color: var(--fill-color);\n",
              "    }\n",
              "    60% {\n",
              "      border-color: transparent;\n",
              "      border-right-color: var(--fill-color);\n",
              "    }\n",
              "    80% {\n",
              "      border-color: transparent;\n",
              "      border-right-color: var(--fill-color);\n",
              "      border-bottom-color: var(--fill-color);\n",
              "    }\n",
              "    90% {\n",
              "      border-color: transparent;\n",
              "      border-bottom-color: var(--fill-color);\n",
              "    }\n",
              "  }\n",
              "</style>\n",
              "\n",
              "      <script>\n",
              "        async function quickchart(key) {\n",
              "          const quickchartButtonEl =\n",
              "            document.querySelector('#' + key + ' button');\n",
              "          quickchartButtonEl.disabled = true;  // To prevent multiple clicks.\n",
              "          quickchartButtonEl.classList.add('colab-df-spinner');\n",
              "          try {\n",
              "            const charts = await google.colab.kernel.invokeFunction(\n",
              "                'suggestCharts', [key], {});\n",
              "          } catch (error) {\n",
              "            console.error('Error during call to suggestCharts:', error);\n",
              "          }\n",
              "          quickchartButtonEl.classList.remove('colab-df-spinner');\n",
              "          quickchartButtonEl.classList.add('colab-df-quickchart-complete');\n",
              "        }\n",
              "        (() => {\n",
              "          let quickchartButtonEl =\n",
              "            document.querySelector('#df-f21eb64e-7ca3-419c-ba08-ec442b4e165f button');\n",
              "          quickchartButtonEl.style.display =\n",
              "            google.colab.kernel.accessAllowed ? 'block' : 'none';\n",
              "        })();\n",
              "      </script>\n",
              "    </div>\n",
              "\n",
              "    </div>\n",
              "  </div>\n"
            ],
            "application/vnd.google.colaboratory.intrinsic+json": {
              "type": "dataframe",
              "summary": "{\n  \"name\": \"df_model\",\n  \"rows\": 8,\n  \"fields\": [\n    {\n      \"column\": \"Jumlah Kunjungan\",\n      \"properties\": {\n        \"dtype\": \"number\",\n        \"std\": 2201606.8840853367,\n        \"min\": 49.0,\n        \"max\": 6188924.0,\n        \"num_unique_values\": 8,\n        \"samples\": [\n          4747037.3877551025,\n          4791764.0,\n          49.0\n        ],\n        \"semantic_type\": \"\",\n        \"description\": \"\"\n      }\n    },\n    {\n      \"column\": \"lag_1\",\n      \"properties\": {\n        \"dtype\": \"number\",\n        \"std\": 2207317.8472590987,\n        \"min\": 49.0,\n        \"max\": 6188924.0,\n        \"num_unique_values\": 8,\n        \"samples\": [\n          4763273.0612244895,\n          4806940.0,\n          49.0\n        ],\n        \"semantic_type\": \"\",\n        \"description\": \"\"\n      }\n    },\n    {\n      \"column\": \"lag_2\",\n      \"properties\": {\n        \"dtype\": \"number\",\n        \"std\": 2211012.742279504,\n        \"min\": 49.0,\n        \"max\": 6188924.0,\n        \"num_unique_values\": 8,\n        \"samples\": [\n          4780639.102040816,\n          4806940.0,\n          49.0\n        ],\n        \"semantic_type\": \"\",\n        \"description\": \"\"\n      }\n    },\n    {\n      \"column\": \"lag_3\",\n      \"properties\": {\n        \"dtype\": \"number\",\n        \"std\": 2212833.7603440657,\n        \"min\": 49.0,\n        \"max\": 6188924.0,\n        \"num_unique_values\": 8,\n        \"samples\": [\n          4786757.0612244895,\n          4806940.0,\n          49.0\n        ],\n        \"semantic_type\": \"\",\n        \"description\": \"\"\n      }\n    },\n    {\n      \"column\": \"rolling_mean_3\",\n      \"properties\": {\n        \"dtype\": \"number\",\n        \"std\": 2170939.1665850407,\n        \"min\": 49.0,\n        \"max\": 5910058.666666667,\n        \"num_unique_values\": 8,\n        \"samples\": [\n          4776889.741496599,\n          4878357.333333333,\n          49.0\n        ],\n        \"semantic_type\": \"\",\n        \"description\": \"\"\n      }\n    },\n    {\n      \"column\": \"month\",\n      \"properties\": {\n        \"dtype\": \"number\",\n        \"std\": 15.580849435444446,\n        \"min\": 1.0,\n        \"max\": 49.0,\n        \"num_unique_values\": 8,\n        \"samples\": [\n          6.448979591836735,\n          6.0,\n          49.0\n        ],\n        \"semantic_type\": \"\",\n        \"description\": \"\"\n      }\n    },\n    {\n      \"column\": \"year\",\n      \"properties\": {\n        \"dtype\": \"number\",\n        \"std\": 924.0213439990385,\n        \"min\": 2.6467153305212725,\n        \"max\": 2025.0,\n        \"num_unique_values\": 8,\n        \"samples\": [\n          2021.5102040816328,\n          2023.0,\n          49.0\n        ],\n        \"semantic_type\": \"\",\n        \"description\": \"\"\n      }\n    },\n    {\n      \"column\": \"quarter\",\n      \"properties\": {\n        \"dtype\": \"number\",\n        \"std\": 16.56435893295633,\n        \"min\": 1.0,\n        \"max\": 49.0,\n        \"num_unique_values\": 7,\n        \"samples\": [\n          49.0,\n          2.489795918367347,\n          3.0\n        ],\n        \"semantic_type\": \"\",\n        \"description\": \"\"\n      }\n    },\n    {\n      \"column\": \"sin_month\",\n      \"properties\": {\n        \"dtype\": \"number\",\n        \"std\": 17.28229888756239,\n        \"min\": -1.0,\n        \"max\": 49.0,\n        \"num_unique_values\": 8,\n        \"samples\": [\n          0.017673987832335477,\n          1.2246467991473532e-16,\n          49.0\n        ],\n        \"semantic_type\": \"\",\n        \"description\": \"\"\n      }\n    },\n    {\n      \"column\": \"cos_month\",\n      \"properties\": {\n        \"dtype\": \"number\",\n        \"std\": 17.300857651501637,\n        \"min\": -1.0,\n        \"max\": 49.0,\n        \"num_unique_values\": 8,\n        \"samples\": [\n          -0.010204081632653102,\n          -1.8369701987210297e-16,\n          49.0\n        ],\n        \"semantic_type\": \"\",\n        \"description\": \"\"\n      }\n    }\n  ]\n}"
            }
          },
          "metadata": {},
          "execution_count": 8
        }
      ]
    },
    {
      "cell_type": "code",
      "source": [
        "import matplotlib.pyplot as plt\n",
        "\n",
        "plt.figure(figsize=(12, 5))\n",
        "plt.plot(df_model.index, df_model['Jumlah Kunjungan'], marker='o', linestyle='-')\n",
        "plt.title('Jumlah Kunjungan Wisatawan Mancanegara per Bulan (2018–2025)')\n",
        "plt.xlabel('Tanggal')\n",
        "plt.ylabel('Jumlah Kunjungan')\n",
        "plt.grid(True)\n",
        "plt.tight_layout()\n",
        "plt.show()"
      ],
      "metadata": {
        "colab": {
          "base_uri": "https://localhost:8080/",
          "height": 507
        },
        "id": "A9rjVTARd3jW",
        "outputId": "3082bc9b-fc72-4b62-ad89-b2a0d1049e68"
      },
      "execution_count": 9,
      "outputs": [
        {
          "output_type": "display_data",
          "data": {
            "text/plain": [
              "<Figure size 1200x500 with 1 Axes>"
            ],
            "image/png": "[encoded data removed]"
          },
          "metadata": {}
        }
      ]
    },
    {
      "cell_type": "code",
      "source": [
        "print(\"Dimensi dataset akhir:\", df_model.shape)\n",
        "print(\"Kolom fitur yang akan digunakan:\", df_model.columns.tolist())"
      ],
      "metadata": {
        "colab": {
          "base_uri": "https://localhost:8080/"
        },
        "id": "p19X8lPwd9Ap",
        "outputId": "273b5f66-4d04-4249-bfb8-4f4aafcf8dc5"
      },
      "execution_count": 10,
      "outputs": [
        {
          "output_type": "stream",
          "name": "stdout",
          "text": [
            "Dimensi dataset akhir: (49, 10)\n",
            "Kolom fitur yang akan digunakan: ['Jumlah Kunjungan', 'lag_1', 'lag_2', 'lag_3', 'rolling_mean_3', 'month', 'year', 'quarter', 'sin_month', 'cos_month']\n"
          ]
        }
      ]
    },
    {
      "cell_type": "markdown",
      "source": [
        "**Kesimpulan:** Sebelum pemodelan, dilakukan pengecekan terhadap data hasil feature engineering. Seluruh nilai NaN yang disebabkan oleh lag dan rolling average telah dibersihkan. Statistik deskriptif ditampilkan untuk memahami sebaran nilai, dan tren time series divisualisasikan untuk memahami pola global data."
      ],
      "metadata": {
        "id": "-r4tqp62eGId"
      }
    },
    {
      "cell_type": "markdown",
      "source": [
        "## **TRAIN-TEST SPLIT**"
      ],
      "metadata": {
        "id": "Ds3RPpuRfl5j"
      }
    },
    {
      "cell_type": "code",
      "source": [
        "train_end = '2024-08-01'\n",
        "df_train = df_model[:train_end]\n",
        "df_test = df_model[train_end:]\n",
        "\n",
        "# Fitur & Target\n",
        "features = ['lag_1', 'lag_2', 'lag_3', 'rolling_mean_3', 'month', 'year', 'quarter', 'sin_month', 'cos_month']\n",
        "X_train = df_train[features]\n",
        "y_train = df_train['Jumlah Kunjungan']\n",
        "X_test = df_test[features]\n",
        "y_test = df_test['Jumlah Kunjungan']\n",
        "\n",
        "# Lihat hasil\n",
        "print(\"Ukuran data latih:\", X_train.shape)\n",
        "print(\"Ukuran data uji:\", X_test.shape)"
      ],
      "metadata": {
        "colab": {
          "base_uri": "https://localhost:8080/"
        },
        "id": "VxWKlSYYeC1f",
        "outputId": "842ff243-a360-4c17-88e9-717f5c3974d9"
      },
      "execution_count": 11,
      "outputs": [
        {
          "output_type": "stream",
          "name": "stdout",
          "text": [
            "Ukuran data latih: (41, 9)\n",
            "Ukuran data uji: (9, 9)\n"
          ]
        }
      ]
    },
    {
      "cell_type": "markdown",
      "source": [
        "## **TRAINING MODEL RANDOM FOREST REGRESSOR**"
      ],
      "metadata": {
        "id": "2AyfhqG4h0Hs"
      }
    },
    {
      "cell_type": "code",
      "source": [
        "from sklearn.ensemble import RandomForestRegressor\n",
        "\n",
        "# Inisialisasi model\n",
        "model_rf = RandomForestRegressor(\n",
        "    n_estimators=100,\n",
        "    random_state=42\n",
        ")\n",
        "\n",
        "# Training model\n",
        "model_rf.fit(X_train, y_train)\n",
        "\n",
        "# Prediksi pada data uji\n",
        "y_pred = model_rf.predict(X_test)\n",
        "\n",
        "# Tampilkan 5 hasil prediksi pertama\n",
        "for actual, pred in zip(y_test[:5], y_pred[:5]):\n",
        "    print(f\"Asli: {int(actual):,} | Prediksi: {int(pred):,}\")"
      ],
      "metadata": {
        "colab": {
          "base_uri": "https://localhost:8080/"
        },
        "id": "L14uxvIWhNz7",
        "outputId": "c51a1abc-d6c2-4563-f1cb-2c8779812b32"
      },
      "execution_count": 12,
      "outputs": [
        {
          "output_type": "stream",
          "name": "stdout",
          "text": [
            "Asli: 5,359,784 | Prediksi: 5,204,089\n",
            "Asli: 5,117,032 | Prediksi: 5,172,858\n",
            "Asli: 4,775,468 | Prediksi: 4,710,194\n",
            "Asli: 4,368,268 | Prediksi: 4,642,056\n",
            "Asli: 4,914,520 | Prediksi: 3,962,093\n"
          ]
        }
      ]
    },
    {
      "cell_type": "markdown",
      "source": [
        "## **KESIMPULAN**\n",
        "\n",
        "### **Model yang Digunakan**\n",
        "Model yang digunakan adalah **Random Forest Regressor**, yaitu algoritma ensemble learning berbasis decision tree yang bekerja dengan membangun banyak pohon keputusan dan menggabungkan hasilnya (mean) untuk meningkatkan akurasi prediksi regresi.\n",
        "\n",
        "\n",
        "### **Parameter Model:**\n",
        "- `n_estimators = 100`: jumlah pohon dalam hutan\n",
        "- `random_state = 42`: untuk replikasi hasil\n",
        "- Fitur yang digunakan: `lag_1`, `lag_2`, `lag_3`, `month`, `year`, `rolling_mean_3`\n",
        "\n",
        "---\n",
        "\n",
        "\n",
        "### **Hasil Prediksi Awal vs Nilai Aktual (5 Data Pertama)**\n",
        "\n",
        "| Bulan (Index) | Jumlah Aktual | Jumlah Prediksi |\n",
        "|---------------|----------------|------------------|\n",
        "| 1             | 5,359,784      | 5,204,089        |\n",
        "| 2             | 5,117,032      | 5,712,858        |\n",
        "| 3             | 4,775,468      | 4,710,194        |\n",
        "| 4             | 4,368,268      | 4,642,056        |\n",
        "| 5             | 4,914,520      | 3,962,093        |\n",
        "\n",
        "---\n",
        "\n",
        "\n",
        "### **Analisis Awal:**\n",
        "- Secara umum, prediksi dari model cukup **mendekati nilai aktual** pada sebagian besar kasus.\n",
        "- Ada beberapa fluktuasi pada nilai prediksi, misalnya:\n",
        "  - Baris ke-5 prediksi lebih rendah dari aktual → ini bisa jadi karena nilai `lag_1`, `lag_2`, dan tren sebelumnya cenderung turun.\n",
        "- Model tampak **cukup sensitif terhadap lag dan pola tren jangka pendek**, sesuai karakteristik Random Forest yang kuat menangkap relasi non-linear.\n",
        "\n",
        "---\n",
        "\n",
        "\n",
        "### **Kesimpulan Sementara:**\n",
        "Model Random Forest menunjukkan hasil awal yang menjanjikan. Untuk memastikan kinerjanya optimal, langkah selanjutnya adalah melakukan **evaluasi metrik error** dan **visualisasi performa model** (Langkah 5).\n"
      ],
      "metadata": {
        "id": "8V3B5Madhk4Q"
      }
    },
    {
      "cell_type": "markdown",
      "source": [
        "## **EVALUASI & VISUALISASI**"
      ],
      "metadata": {
        "id": "bP6e_JlKieAj"
      }
    },
    {
      "cell_type": "code",
      "source": [
        "mae = mean_absolute_error(y_test, y_pred)\n",
        "rmse = np.sqrt(mean_squared_error(y_test, y_pred))\n",
        "r2 = r2_score(y_test, y_pred)\n",
        "\n",
        "print(\"📊 Evaluasi Model:\")\n",
        "print(f\"MAE  (Mean Absolute Error): {mae:,.0f}\")\n",
        "print(f\"RMSE (Root Mean Squared Error): {rmse:,.0f}\")\n",
        "print(f\"R²    (R-squared): {r2:.4f}\")"
      ],
      "metadata": {
        "colab": {
          "base_uri": "https://localhost:8080/"
        },
        "id": "Qmno6aYqikDo",
        "outputId": "6d7f6168-7e54-4b86-cd9b-9220f155befc"
      },
      "execution_count": 13,
      "outputs": [
        {
          "output_type": "stream",
          "name": "stdout",
          "text": [
            "📊 Evaluasi Model:\n",
            "MAE  (Mean Absolute Error): 296,321\n",
            "RMSE (Root Mean Squared Error): 418,448\n",
            "R²    (R-squared): 0.0757\n"
          ]
        }
      ]
    },
    {
      "cell_type": "code",
      "source": [
        "import matplotlib.pyplot as plt\n",
        "# Plot prediksi vs aktual\n",
        "plt.figure(figsize=(12, 5))\n",
        "plt.plot(y_test.index, y_test, label='Aktual', marker='o')\n",
        "plt.plot(y_test.index, y_pred, label='Prediksi', marker='s', linestyle='--')\n",
        "plt.title('Prediksi vs Aktual Jumlah Kunjungan Wisman')\n",
        "plt.xlabel('Tanggal')\n",
        "plt.ylabel('Jumlah Kunjungan')\n",
        "plt.legend()\n",
        "plt.grid(True)\n",
        "plt.tight_layout()\n",
        "plt.show()"
      ],
      "metadata": {
        "colab": {
          "base_uri": "https://localhost:8080/",
          "height": 507
        },
        "id": "lWjLbTBriqCn",
        "outputId": "daf2ce4d-ed0b-498d-c11a-c1b495b12855"
      },
      "execution_count": 15,
      "outputs": [
        {
          "output_type": "display_data",
          "data": {
            "text/plain": [
              "<Figure size 1200x500 with 1 Axes>"
            ],
            "image/png": "[encoded data removed]"
          },
          "metadata": {}
        }
      ]
    },
    {
      "cell_type": "markdown",
      "source": [
        "### **Kesimpulan**\n",
        "\n",
        "- Nilai MAE & RMSE turun, artinya model lebih tepat.\n",
        "\n",
        "- R² menjadi positif → berarti model sudah menjelaskan sebagian variasi data."
      ],
      "metadata": {
        "id": "o2IncD9cUC7C"
      }
    },
    {
      "cell_type": "markdown",
      "source": [
        "## **RECURSIVE FORECASTING**"
      ],
      "metadata": {
        "id": "d7BBRSn6Uj6-"
      }
    },
    {
      "cell_type": "code",
      "source": [
        "# Recursive Forecasting (6 Bulan ke Depan)\n",
        "\n",
        "import datetime\n",
        "\n",
        "# Buat salinan data terakhir\n",
        "df_forecast = df_model.copy()\n",
        "\n",
        "# Jumlah bulan yang ingin diprediksi\n",
        "n_steps = 6\n",
        "\n",
        "# Simpan hasil prediksi\n",
        "forecast_results = []\n",
        "\n",
        "# Iterasi prediksi bulan demi bulan\n",
        "for i in range(n_steps):\n",
        "    # Ambil data terakhir\n",
        "    last_row = df_forecast.iloc[-1]\n",
        "\n",
        "    # Hitung tanggal bulan berikutnya\n",
        "    next_date = last_row.name + pd.DateOffset(months=1)\n",
        "    next_month = next_date.month\n",
        "    next_year = next_date.year\n",
        "    next_quarter = (next_month - 1) // 3 + 1\n",
        "    sin_month = np.sin(2 * np.pi * next_month / 12)\n",
        "    cos_month = np.cos(2 * np.pi * next_month / 12)\n",
        "\n",
        "    # Siapkan fitur input\n",
        "    input_features = pd.DataFrame({\n",
        "        'lag_1': [last_row['Jumlah Kunjungan']],\n",
        "        'lag_2': [last_row['lag_1']],\n",
        "        'lag_3': [last_row['lag_2']],\n",
        "        'rolling_mean_3': [df_forecast['Jumlah Kunjungan'].iloc[-3:].mean()],\n",
        "        'month': [next_month],\n",
        "        'year': [next_year],\n",
        "        'quarter': [next_quarter],\n",
        "        'sin_month': [sin_month],\n",
        "        'cos_month': [cos_month],\n",
        "    }, index=[next_date])\n",
        "\n",
        "    # Prediksi jumlah kunjungan bulan berikutnya\n",
        "    y_pred_next = model_rf.predict(input_features)[0]\n",
        "\n",
        "    # Tambahkan hasil ke list\n",
        "    forecast_results.append((next_date, int(y_pred_next)))\n",
        "\n",
        "    # Simpan ke df_forecast untuk langkah selanjutnya\n",
        "    next_row = input_features.copy()\n",
        "    next_row['Jumlah Kunjungan'] = y_pred_next\n",
        "    df_forecast = pd.concat([df_forecast, next_row])\n",
        "\n",
        "# ===============================\n",
        "# Tampilkan Hasil Prediksi\n",
        "# ===============================\n",
        "print(\"📅 Prediksi 6 Bulan ke Depan:\")\n",
        "for tanggal, nilai in forecast_results:\n",
        "    print(f\"{tanggal.strftime('%Y-%m')}: {nilai:,}\")\n"
      ],
      "metadata": {
        "colab": {
          "base_uri": "https://localhost:8080/"
        },
        "id": "1zSodw35UeoK",
        "outputId": "03fe39c7-f7c3-453d-b71c-ed646947c731"
      },
      "execution_count": 16,
      "outputs": [
        {
          "output_type": "stream",
          "name": "stdout",
          "text": [
            "📅 Prediksi 6 Bulan ke Depan:\n",
            "2025-05: 4,743,813\n",
            "2025-06: 4,950,731\n",
            "2025-07: 5,158,136\n",
            "2025-08: 5,130,333\n",
            "2025-09: 4,855,981\n",
            "2025-10: 4,741,960\n"
          ]
        }
      ]
    },
    {
      "cell_type": "markdown",
      "source": [
        "## 📌 Kesimpulan Proyek Time Series Forecasting Jumlah Kunjungan Wisatawan\n",
        "\n",
        "### 🎯 Tujuan\n",
        "Proyek ini bertujuan untuk memprediksi jumlah kunjungan wisatawan mancanegara ke Indonesia per bulan berdasarkan data dari tahun 2018 hingga 2025. Pendekatan yang digunakan adalah **model supervised learning Random Forest Regressor** dengan **feature engineering dan forecasting berbasis time series**.\n",
        "\n",
        "---\n",
        "\n",
        "### 📊 Hasil Evaluasi Model\n",
        "\n",
        "Setelah menambahkan fitur-fitur musiman (seperti sin dan cos bulan), model menunjukkan peningkatan performa:\n",
        "\n",
        "- **MAE (Mean Absolute Error)**: ±296.321  \n",
        "- **RMSE (Root Mean Squared Error)**: ±418.448  \n",
        "- **R² (R-squared)**: 0.0757\n",
        "\n",
        "Nilai R² yang positif menunjukkan bahwa model mulai dapat menjelaskan sebagian variasi data, dan prediksi menunjukkan pola yang konsisten dengan tren aktual.\n",
        "\n",
        "---\n",
        "\n",
        "### 🔮 Prediksi 6 Bulan ke Depan (Recursive Forecasting)\n",
        "\n",
        "| Bulan        | Prediksi Jumlah Kunjungan |\n",
        "|--------------|----------------------------|\n",
        "| 2025-05      | 4,743,813                  |\n",
        "| 2025-06      | 4,950,731                  |\n",
        "| 2025-07      | 5,158,136                  |\n",
        "| 2025-08      | 5,130,333                  |\n",
        "| 2025-09      | 4,855,981                  |\n",
        "| 2025-10      | 4,741,960                  |\n",
        "\n",
        "Model menunjukkan tren yang **musiman dan stabil**, dengan prediksi kunjungan terus meningkat pada pertengahan tahun (musim liburan), dan sedikit menurun menjelang akhir kuartal 3–4.\n",
        "\n",
        "---\n",
        "\n",
        "### ✅ Kesimpulan Akhir\n",
        "Model Random Forest Regressor dengan fitur musiman terbukti cukup efektif untuk memprediksi jumlah wisatawan per bulan. Hasil ini dapat digunakan oleh stakeholder seperti:\n",
        "- Kementerian Pariwisata,\n",
        "- Bandara,\n",
        "- Maskapai, dan\n",
        "- Pelaku industri pariwisata\n",
        "\n",
        "untuk **perencanaan operasional dan strategi promosi** ke depan.\n",
        "\n",
        "---"
      ],
      "metadata": {
        "id": "UqKndyhrVE5E"
      }
    }
  ]
}